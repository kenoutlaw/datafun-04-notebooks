{
 "cells": [
  {
   "cell_type": "code",
   "execution_count": null,
   "id": "17d7223b-f053-4762-a4ec-a00b2c99711e",
   "metadata": {},
   "outputs": [],
   "source": [
    "Kendall Outlaw's Module 4 Project"
   ]
  },
  {
   "cell_type": "code",
   "execution_count": null,
   "id": "e90043a2-0624-45dd-9875-772bb2280ed0",
   "metadata": {},
   "outputs": [],
   "source": [
    "Task 1 - Series"
   ]
  },
  {
   "cell_type": "code",
   "execution_count": 22,
   "id": "6306bddc-a5e9-4a63-a027-c20f558dd878",
   "metadata": {},
   "outputs": [
    {
     "name": "stdout",
     "output_type": "stream",
     "text": [
      "87\n",
      "3\n",
      "93.66666666666667\n",
      "87\n",
      "100\n",
      "6.506407098647712\n",
      "count      3.000000\n",
      "mean      93.666667\n",
      "std        6.506407\n",
      "min       87.000000\n",
      "25%       90.500000\n",
      "50%       94.000000\n",
      "75%       97.000000\n",
      "max      100.000000\n",
      "dtype: float64\n"
     ]
    }
   ],
   "source": [
    "import pandas as pd\n",
    "grades = pd.Series([87, 100, 94])\n",
    "\n",
    "#Get the value of the first grade with grades[0].\n",
    "print(grades[0])\n",
    "\n",
    "#Call the built in Series functions: count(), mean(), min(), max(), std(), and describe().\n",
    "print(grades.count())\n",
    "print(grades.mean())\n",
    "print(grades.min())\n",
    "print(grades.max())\n",
    "print(grades.std())\n",
    "print(grades.describe())\n"
   ]
  },
  {
   "cell_type": "markdown",
   "id": "a10074cd-7391-4eea-9166-e77e8ad426b1",
   "metadata": {},
   "source": [
    "Task 2 - Series from Dictionary"
   ]
  },
  {
   "cell_type": "code",
   "execution_count": 28,
   "id": "9e784a57-c857-472f-a515-dee2cdfe991c",
   "metadata": {},
   "outputs": [
    {
     "name": "stdout",
     "output_type": "stream",
     "text": [
      "100\n",
      "87\n",
      "[ 87 100  94]\n",
      "0    65\n",
      "1    72\n",
      "2    85\n",
      "3    93\n",
      "4    74\n",
      "5    96\n",
      "dtype: int32\n",
      "65\n",
      "96\n",
      "80.83333333333333\n",
      "count     6.000000\n",
      "mean     80.833333\n",
      "std      12.416387\n",
      "min      65.000000\n",
      "25%      72.500000\n",
      "50%      79.500000\n",
      "75%      91.000000\n",
      "max      96.000000\n",
      "dtype: float64\n"
     ]
    }
   ],
   "source": [
    "import pandas as pd\n",
    "#Follow the instructions in the \"Dictionary Initializers' subsection to modify your code to initialize grades with a dictionary (a set of key-value pairs instead) - we'll use the student name as the key  and their exam score as the value\n",
    "grades = pd.Series({'Wally': 87, 'Eva': 100, 'Sam': 94})\n",
    "\n",
    "#Get Eva's score by calling grades['Eva']\n",
    "print(grades['Eva'])\n",
    "\n",
    "#Get Wally's score using the easier dot notation: grades.Wally.  This is much more common and can be used as long as there are NO spaces in the key text.  If there are spaces, you'll have to use the approach we used for Eva above - wrapping the key in single quotes. \n",
    "print(grades.Wally)\n",
    "\n",
    "#Use the Series values attribute to display the array of values. \n",
    "print(grades.values)\n",
    "\n",
    "#Complete the self-check on Page 266.\n",
    "import numpy as np\n",
    "import pandas as pd\n",
    "\n",
    "temps = np.random.randint(60, 101, 6)\n",
    "\n",
    "temperatures = pd.Series(temps)\n",
    "\n",
    "print(temperatures)\n",
    "\n",
    "print(temperatures.min())\n",
    "print(temperatures.max())\n",
    "print(temperatures.mean())\n",
    "print(temperatures.describe())\n",
    "\n",
    "\n",
    "\n",
    "\n"
   ]
  },
  {
   "cell_type": "code",
   "execution_count": null,
   "id": "317bb1a9-5c95-49a4-97b2-436401ebdf9a",
   "metadata": {},
   "outputs": [],
   "source": []
  },
  {
   "cell_type": "code",
   "execution_count": null,
   "id": "e14cdbea-fcb6-4c98-953e-1ff480ea12c3",
   "metadata": {},
   "outputs": [],
   "source": []
  }
 ],
 "metadata": {
  "kernelspec": {
   "display_name": "Python 3",
   "language": "python",
   "name": "python3"
  },
  "language_info": {
   "codemirror_mode": {
    "name": "ipython",
    "version": 3
   },
   "file_extension": ".py",
   "mimetype": "text/x-python",
   "name": "python",
   "nbconvert_exporter": "python",
   "pygments_lexer": "ipython3",
   "version": "3.8.8"
  }
 },
 "nbformat": 4,
 "nbformat_minor": 5
}
