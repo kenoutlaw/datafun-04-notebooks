{
 "cells": [
  {
   "cell_type": "markdown",
   "id": "28d97ff0-ea69-4bda-82c6-733eb8f28c27",
   "metadata": {},
   "source": [
    "Kendall Outlaw's Module 4 Project"
   ]
  },
  {
   "cell_type": "markdown",
   "id": "75e70ce9-6c1c-47b1-8add-e917c0876f3a",
   "metadata": {
    "tags": []
   },
   "source": [
    "Task 1. Create DataFrame"
   ]
  },
  {
   "cell_type": "code",
   "execution_count": 48,
   "id": "2affe868-4ba9-4751-9a96-9ff2d121beca",
   "metadata": {},
   "outputs": [
    {
     "name": "stdout",
     "output_type": "stream",
     "text": [
      "   Wally  Eva  Sam  Katie  Bob\n",
      "0     87  100   94    100   83\n",
      "1     96   87   77     81   65\n",
      "2     70   90   90     82   85\n"
     ]
    }
   ],
   "source": [
    "#Follow the instructions in 7.14.2 to import pandas as pd and create a pandas DataFrame from a dictionary (a set of key-value pairs) holding multiple exam scores for each key/student. In this example, we have 5 students, each with 3 exam scores, but the scores aren't labeled.  \n",
    "import pandas as pd\n",
    "grades_dict = {'Wally': [87, 96, 70], 'Eva': [100, 87, 90],\n",
    "              'Sam': [94, 77, 90], 'Katie': [100, 81, 82],\n",
    "              'Bob': [83, 65, 85]}\n",
    "\n",
    "grades = pd.DataFrame(grades_dict)\n",
    "\n",
    "print(grades)\n",
    "\n"
   ]
  },
  {
   "cell_type": "markdown",
   "id": "e47fcb2d-4d6a-43bb-8bc1-228e5c3f060b",
   "metadata": {
    "tags": []
   },
   "source": [
    "Task 2. Create Custom Index"
   ]
  },
  {
   "cell_type": "code",
   "execution_count": 47,
   "id": "d7ef6279-9595-4c2b-af5c-4df3087c9529",
   "metadata": {},
   "outputs": [
    {
     "name": "stdout",
     "output_type": "stream",
     "text": [
      "Custom Index\n",
      "       Wally  Eva  Sam  Katie  Bob\n",
      "Test1     87  100   94    100   83\n",
      "Test2     96   87   77     81   65\n",
      "Test3     70   90   90     82   85\n",
      "\n",
      "Grades for Eva\n",
      "Test1    100\n",
      "Test2     87\n",
      "Test3     90\n",
      "Name: Eva, dtype: int64\n",
      "\n",
      "Grades for Sam\n",
      "Test1    94\n",
      "Test2    77\n",
      "Test3    90\n",
      "Name: Sam, dtype: int64\n"
     ]
    }
   ],
   "source": [
    "import pandas as pd\n",
    "grades_dict = {'Wally': [87, 96, 70], 'Eva': [100, 87, 90],\n",
    "              'Sam': [94, 77, 90], 'Katie': [100, 81, 82],\n",
    "              'Bob': [83, 65, 85]}\n",
    "\n",
    "print(\"Custom Index\")\n",
    "grades = pd.DataFrame(grades_dict)\n",
    "\n",
    "#Follow the instructions to apply a custom index (instead of 0,1,2), let's call them 'Test1', Test2', and 'Test3'. See 'Customizing a DataFrame's Indices with the index Attribute subsection. \n",
    "grades.index = ['Test1', 'Test2', 'Test3']\n",
    "print(grades)\n",
    "print()\n",
    "\n",
    "\n",
    "#As we did in Part 1, we can request grades by key using the text attribute (square brackets with single quoted text strings). Find Eva's grades with grades['Eva'] \n",
    "print(\"Grades for Eva\")\n",
    "print(grades['Eva'])\n",
    "\n",
    "\n",
    "\n",
    "#If no spaces in the key, we can use the simpler dot attribute approach. Find Sam's grades with grades.Sam as shown in 'Accessing a DataFrame's columns' subsection. \n",
    "print()\n",
    "print(\"Grades for Sam\")\n",
    "print(grades.Sam)\n"
   ]
  },
  {
   "cell_type": "markdown",
   "id": "025df83f-e83a-4deb-8552-0fb55f9ff24a",
   "metadata": {},
   "source": [
    "Task 3. Accessing Rows (loc, iloc)"
   ]
  },
  {
   "cell_type": "code",
   "execution_count": 21,
   "id": "92f40af2-4986-4456-8180-7a4aff03c03d",
   "metadata": {},
   "outputs": [
    {
     "name": "stdout",
     "output_type": "stream",
     "text": [
      "Getting Scores for the First Exam Example 1\n",
      "\n",
      "Wally     87\n",
      "Eva      100\n",
      "Sam       94\n",
      "Katie    100\n",
      "Bob       83\n",
      "Name: Test1, dtype: int64\n",
      "\n",
      "Getting Scores for the First Exam Example 2\n",
      "Wally     87\n",
      "Eva      100\n",
      "Sam       94\n",
      "Katie    100\n",
      "Bob       83\n",
      "Name: Test1, dtype: int64\n",
      "\n",
      "I prefer Example 2 because I am specifying the Column Name\n",
      "\n",
      "Getting Slices of Rows\n",
      "       Wally  Sam\n",
      "Test1     87   94\n",
      "Test2     96   77\n"
     ]
    }
   ],
   "source": [
    "#Execute the examples using loc['Test1'] to get scores for the first exam, or iLoc[0] to get scores for the first exam and iLoc[1] to get scores for the second exam. Which do you prefer? \n",
    "import pandas as pd\n",
    "grades_dict = {'Wally': [87, 96, 70], 'Eva': [100, 87, 90],\n",
    "              'Sam': [94, 77, 90], 'Katie': [100, 81, 82],\n",
    "              'Bob': [83, 65, 85]}\n",
    "\n",
    "print(\"Getting Scores for the First Exam Example 1\")\n",
    "grades = pd.DataFrame(grades_dict)\n",
    "\n",
    "grades.index = ['Test1', 'Test2', 'Test3']\n",
    "\n",
    "print()\n",
    "print(grades.iloc[0])\n",
    "\n",
    "print()\n",
    "\n",
    "print(\"Getting Scores for the First Exam Example 2\")\n",
    "print(grades.loc['Test1'])\n",
    "\n",
    "print()\n",
    "print(\"I prefer Example 2 because I am specifying the Column Name\")\n",
    "\n",
    "print()\n",
    "\n",
    "\n",
    "#We can also get slices of rows, e.g., from ['Test1':'Test3'], inclusive, or, using index values, from [0:2], inclusive.\n",
    "print(\"Getting Slices of Rows\")\n",
    "print(grades.loc['Test1':'Test2', ['Wally', 'Sam']])\n",
    "\n",
    "\n",
    "\n",
    "\n",
    "\n",
    "\n",
    "\n",
    "\n",
    "\n"
   ]
  },
  {
   "cell_type": "markdown",
   "id": "03a0f391-c242-4177-988f-099ec08f1303",
   "metadata": {},
   "source": [
    "Task 3. Accessing Subsets (at, iat)"
   ]
  },
  {
   "cell_type": "code",
   "execution_count": 43,
   "id": "734cf620-361f-4155-a0ba-19cc0a6c6c0e",
   "metadata": {},
   "outputs": [
    {
     "name": "stdout",
     "output_type": "stream",
     "text": [
      "Eva's Second Exam Score\n",
      "87\n",
      "\n",
      "Getting the Score on the Third Exam for the First Student\n",
      "70\n"
     ]
    }
   ],
   "source": [
    "import pandas as pd\n",
    "grades_dict = {'Wally': [87, 96, 70], 'Eva': [100, 87, 90],\n",
    "              'Sam': [94, 77, 90], 'Katie': [100, 81, 82],\n",
    "              'Bob': [83, 65, 85]}\n",
    "\n",
    "grades = pd.DataFrame(grades_dict)\n",
    "\n",
    "grades.index = ['Test1', 'Test2', 'Test3']\n",
    "\n",
    "#Use grades.at['Test2', 'Eva'} to find her score on the second exam using labels.\n",
    "print(\"Eva's Second Exam Score\")\n",
    "print(grades.at['Test2', 'Eva'])\n",
    "\n",
    "\n",
    "print()\n",
    "#Use grades.iat[2,0] to get the score on the third exam for the first student (Wally), using indices. \n",
    "print(\"Getting the Score on the Third Exam for the First Student\")\n",
    "print(grades.iat[2, 0])\n",
    "\n",
    "\n",
    "\n"
   ]
  },
  {
   "cell_type": "markdown",
   "id": "18aa8209-edcd-44ea-a185-25e19648fd72",
   "metadata": {},
   "source": [
    "Task 4. Describe (By Column)"
   ]
  },
  {
   "cell_type": "code",
   "execution_count": 32,
   "id": "44e07b3d-bd2c-4532-9006-8b8f18434c1e",
   "metadata": {},
   "outputs": [
    {
     "name": "stdout",
     "output_type": "stream",
     "text": [
      "Descriptive Statistics for Gradebook Columns\n",
      "       Wally     Eva    Sam   Katie    Bob\n",
      "count   3.00    3.00   3.00    3.00   3.00\n",
      "mean   84.33   92.33  87.00   87.67  77.67\n",
      "std    13.20    6.81   8.89   10.69  11.02\n",
      "min    70.00   87.00  77.00   81.00  65.00\n",
      "25%    78.50   88.50  83.50   81.50  74.00\n",
      "50%    87.00   90.00  90.00   82.00  83.00\n",
      "75%    91.50   95.00  92.00   91.00  84.00\n",
      "max    96.00  100.00  94.00  100.00  85.00\n",
      "\n",
      "Set the precision\n",
      "       Wally     Eva    Sam   Katie    Bob\n",
      "count   3.00    3.00   3.00    3.00   3.00\n",
      "mean   84.33   92.33  87.00   87.67  77.67\n",
      "std    13.20    6.81   8.89   10.69  11.02\n",
      "min    70.00   87.00  77.00   81.00  65.00\n",
      "25%    78.50   88.50  83.50   81.50  74.00\n",
      "50%    87.00   90.00  90.00   82.00  83.00\n",
      "75%    91.50   95.00  92.00   91.00  84.00\n",
      "max    96.00  100.00  94.00  100.00  85.00\n"
     ]
    }
   ],
   "source": [
    "import pandas as pd\n",
    "grades_dict = {'Wally': [87, 96, 70], 'Eva': [100, 87, 90],\n",
    "              'Sam': [94, 77, 90], 'Katie': [100, 81, 82],\n",
    "              'Bob': [83, 65, 85]}\n",
    "\n",
    "\n",
    "grades = pd.DataFrame(grades_dict)\n",
    "\n",
    "grades.index = ['Test1', 'Test2', 'Test3']\n",
    "\n",
    "#Use grades.describe() to get descriptive statistics for our gradebook columns.\n",
    "print(\"Descriptive Statistics for Gradebook Columns\")\n",
    "print(grades.describe())\n",
    "\n",
    "print()\n",
    "\n",
    "\n",
    "#Try to set the precision using the pd.set_option('precision',2) provided.\n",
    "print(\"Set the precision\")\n",
    "pd.set_option('precision', 2)\n",
    "\n",
    "print(grades.describe())\n",
    "\n",
    "\n",
    "\n",
    "\n"
   ]
  },
  {
   "cell_type": "markdown",
   "id": "fd0335c4-18c5-4723-9f23-6611b76a988e",
   "metadata": {},
   "source": [
    "Task 5. Transpose (rows <--> columns)"
   ]
  },
  {
   "cell_type": "code",
   "execution_count": 36,
   "id": "d059f6b3-4992-49fa-a692-c6f79a1cde51",
   "metadata": {},
   "outputs": [
    {
     "name": "stdout",
     "output_type": "stream",
     "text": [
      "Get the average for each column\n",
      "Wally    84.33\n",
      "Eva      92.33\n",
      "Sam      87.00\n",
      "Katie    87.67\n",
      "Bob      77.67\n",
      "dtype: float64\n",
      "\n",
      "Transpose the DataFrame using the T attribute\n",
      "       Test1  Test2  Test3\n",
      "Wally     87     96     70\n",
      "Eva      100     87     90\n",
      "Sam       94     77     90\n",
      "Katie    100     81     82\n",
      "Bob       83     65     85\n",
      "\n",
      "Get the mean by the new columns with .T.describe()\n",
      "        Test1  Test2  Test3\n",
      "count    5.00   5.00   5.00\n",
      "mean    92.80  81.20  83.40\n",
      "std      7.66  11.54   8.23\n",
      "min     83.00  65.00  70.00\n",
      "25%     87.00  77.00  82.00\n",
      "50%     94.00  81.00  85.00\n",
      "75%    100.00  87.00  90.00\n",
      "max    100.00  96.00  90.00\n"
     ]
    }
   ],
   "source": [
    "import pandas as pd\n",
    "grades_dict = {'Wally': [87, 96, 70], 'Eva': [100, 87, 90],\n",
    "              'Sam': [94, 77, 90], 'Katie': [100, 81, 82],\n",
    "              'Bob': [83, 65, 85]}\n",
    "\n",
    "grades = pd.DataFrame(grades_dict)\n",
    "\n",
    "grades.index = ['Test1', 'Test2', 'Test3']\n",
    "\n",
    "#Get the average for each column by calling grades.mean()\n",
    "print(\"Get the average for each column\")\n",
    "print(grades.mean())\n",
    "\n",
    "print()\n",
    "#Transpose the DataFrame using the T attribute.\n",
    "print(\"Transpose the DataFrame using the T attribute\")\n",
    "print(grades.T)\n",
    "\n",
    "print()\n",
    "#Get the mean by the new columns with .T.describe()\n",
    "print(\"Get the mean by the new columns with .T.describe()\")\n",
    "print(grades.T.describe())\n",
    "\n",
    "\n",
    "\n"
   ]
  },
  {
   "cell_type": "markdown",
   "id": "ba42e067-8703-4617-812a-5011274cdafc",
   "metadata": {},
   "source": [
    "Task 6. Sort"
   ]
  },
  {
   "cell_type": "code",
   "execution_count": 39,
   "id": "a503ebf6-5c64-4600-b21c-058255cfb580",
   "metadata": {},
   "outputs": [
    {
     "name": "stdout",
     "output_type": "stream",
     "text": [
      "Sort the gradebook rows in reverse order\n",
      "       Wally  Eva  Sam  Katie  Bob\n",
      "Test3     70   90   90     82   85\n",
      "Test2     96   87   77     81   65\n",
      "Test1     87  100   94    100   83\n",
      "\n",
      "Sort the gradebook columns so the names appear in order using grades.sort_index(axis=1).\n",
      "       Bob  Eva  Katie  Sam  Wally\n",
      "Test1   83  100    100   94     87\n",
      "Test2   65   87     81   77     96\n",
      "Test3   85   90     82   90     70\n"
     ]
    }
   ],
   "source": [
    "import pandas as pd\n",
    "grades_dict = {'Wally': [87, 96, 70], 'Eva': [100, 87, 90],\n",
    "              'Sam': [94, 77, 90], 'Katie': [100, 81, 82],\n",
    "              'Bob': [83, 65, 85]}\n",
    "\n",
    "grades = pd.DataFrame(grades_dict)\n",
    "\n",
    "grades.index = ['Test1', 'Test2', 'Test3']\n",
    "\n",
    "#Sort the gradebook rows in reverse order so the most recent exam row appears at the top with grades.sort_index(ascending=False)\n",
    "print(\"Sort the gradebook rows in reverse order\")\n",
    "print(grades.sort_index(ascending=False))\n",
    "\n",
    "print()\n",
    "\n",
    "#Sort the gradebook columns so the names appear in order using grades.sort_index(axis=1).\n",
    "print(\"Sort the gradebook columns so the names appear in order using grades.sort_index(axis=1).\")\n",
    "print(grades.sort_index(axis=1))\n",
    "\n",
    "\n",
    "\n"
   ]
  },
  {
   "cell_type": "code",
   "execution_count": null,
   "id": "524227d4-8a1a-4119-b1a6-88f353be8f01",
   "metadata": {},
   "outputs": [],
   "source": []
  },
  {
   "cell_type": "code",
   "execution_count": null,
   "id": "7bdab224-5401-4d30-b2db-b8e22fd626d5",
   "metadata": {},
   "outputs": [],
   "source": []
  }
 ],
 "metadata": {
  "kernelspec": {
   "display_name": "Python 3",
   "language": "python",
   "name": "python3"
  },
  "language_info": {
   "codemirror_mode": {
    "name": "ipython",
    "version": 3
   },
   "file_extension": ".py",
   "mimetype": "text/x-python",
   "name": "python",
   "nbconvert_exporter": "python",
   "pygments_lexer": "ipython3",
   "version": "3.8.8"
  }
 },
 "nbformat": 4,
 "nbformat_minor": 5
}
